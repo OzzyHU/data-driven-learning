{
 "cells": [
  {
   "cell_type": "code",
   "execution_count": 104,
   "metadata": {},
   "outputs": [],
   "source": [
    "import seaborn as sns\n",
    "import pandas as pd\n",
    "from sklearn.model_selection import train_test_split\n",
    "from sklearn.metrics import confusion_matrix\n",
    "from sklearn.ensemble import RandomForestClassifier"
   ]
  },
  {
   "cell_type": "code",
   "execution_count": 86,
   "metadata": {},
   "outputs": [
    {
     "data": {
      "text/html": [
       "<div>\n",
       "<style scoped>\n",
       "    .dataframe tbody tr th:only-of-type {\n",
       "        vertical-align: middle;\n",
       "    }\n",
       "\n",
       "    .dataframe tbody tr th {\n",
       "        vertical-align: top;\n",
       "    }\n",
       "\n",
       "    .dataframe thead th {\n",
       "        text-align: right;\n",
       "    }\n",
       "</style>\n",
       "<table border=\"1\" class=\"dataframe\">\n",
       "  <thead>\n",
       "    <tr style=\"text-align: right;\">\n",
       "      <th></th>\n",
       "      <th>Time</th>\n",
       "      <th>V1</th>\n",
       "      <th>V2</th>\n",
       "      <th>V3</th>\n",
       "      <th>V4</th>\n",
       "      <th>V5</th>\n",
       "      <th>V6</th>\n",
       "      <th>V7</th>\n",
       "      <th>V8</th>\n",
       "      <th>V9</th>\n",
       "      <th>...</th>\n",
       "      <th>V21</th>\n",
       "      <th>V22</th>\n",
       "      <th>V23</th>\n",
       "      <th>V24</th>\n",
       "      <th>V25</th>\n",
       "      <th>V26</th>\n",
       "      <th>V27</th>\n",
       "      <th>V28</th>\n",
       "      <th>Amount</th>\n",
       "      <th>Class</th>\n",
       "    </tr>\n",
       "  </thead>\n",
       "  <tbody>\n",
       "    <tr>\n",
       "      <th>0</th>\n",
       "      <td>0.0</td>\n",
       "      <td>-1.359807</td>\n",
       "      <td>-0.072781</td>\n",
       "      <td>2.536347</td>\n",
       "      <td>1.378155</td>\n",
       "      <td>-0.338321</td>\n",
       "      <td>0.462388</td>\n",
       "      <td>0.239599</td>\n",
       "      <td>0.098698</td>\n",
       "      <td>0.363787</td>\n",
       "      <td>...</td>\n",
       "      <td>-0.018307</td>\n",
       "      <td>0.277838</td>\n",
       "      <td>-0.110474</td>\n",
       "      <td>0.066928</td>\n",
       "      <td>0.128539</td>\n",
       "      <td>-0.189115</td>\n",
       "      <td>0.133558</td>\n",
       "      <td>-0.021053</td>\n",
       "      <td>149.62</td>\n",
       "      <td>0</td>\n",
       "    </tr>\n",
       "    <tr>\n",
       "      <th>1</th>\n",
       "      <td>0.0</td>\n",
       "      <td>1.191857</td>\n",
       "      <td>0.266151</td>\n",
       "      <td>0.166480</td>\n",
       "      <td>0.448154</td>\n",
       "      <td>0.060018</td>\n",
       "      <td>-0.082361</td>\n",
       "      <td>-0.078803</td>\n",
       "      <td>0.085102</td>\n",
       "      <td>-0.255425</td>\n",
       "      <td>...</td>\n",
       "      <td>-0.225775</td>\n",
       "      <td>-0.638672</td>\n",
       "      <td>0.101288</td>\n",
       "      <td>-0.339846</td>\n",
       "      <td>0.167170</td>\n",
       "      <td>0.125895</td>\n",
       "      <td>-0.008983</td>\n",
       "      <td>0.014724</td>\n",
       "      <td>2.69</td>\n",
       "      <td>0</td>\n",
       "    </tr>\n",
       "    <tr>\n",
       "      <th>2</th>\n",
       "      <td>1.0</td>\n",
       "      <td>-1.358354</td>\n",
       "      <td>-1.340163</td>\n",
       "      <td>1.773209</td>\n",
       "      <td>0.379780</td>\n",
       "      <td>-0.503198</td>\n",
       "      <td>1.800499</td>\n",
       "      <td>0.791461</td>\n",
       "      <td>0.247676</td>\n",
       "      <td>-1.514654</td>\n",
       "      <td>...</td>\n",
       "      <td>0.247998</td>\n",
       "      <td>0.771679</td>\n",
       "      <td>0.909412</td>\n",
       "      <td>-0.689281</td>\n",
       "      <td>-0.327642</td>\n",
       "      <td>-0.139097</td>\n",
       "      <td>-0.055353</td>\n",
       "      <td>-0.059752</td>\n",
       "      <td>378.66</td>\n",
       "      <td>0</td>\n",
       "    </tr>\n",
       "    <tr>\n",
       "      <th>3</th>\n",
       "      <td>1.0</td>\n",
       "      <td>-0.966272</td>\n",
       "      <td>-0.185226</td>\n",
       "      <td>1.792993</td>\n",
       "      <td>-0.863291</td>\n",
       "      <td>-0.010309</td>\n",
       "      <td>1.247203</td>\n",
       "      <td>0.237609</td>\n",
       "      <td>0.377436</td>\n",
       "      <td>-1.387024</td>\n",
       "      <td>...</td>\n",
       "      <td>-0.108300</td>\n",
       "      <td>0.005274</td>\n",
       "      <td>-0.190321</td>\n",
       "      <td>-1.175575</td>\n",
       "      <td>0.647376</td>\n",
       "      <td>-0.221929</td>\n",
       "      <td>0.062723</td>\n",
       "      <td>0.061458</td>\n",
       "      <td>123.50</td>\n",
       "      <td>0</td>\n",
       "    </tr>\n",
       "    <tr>\n",
       "      <th>4</th>\n",
       "      <td>2.0</td>\n",
       "      <td>-1.158233</td>\n",
       "      <td>0.877737</td>\n",
       "      <td>1.548718</td>\n",
       "      <td>0.403034</td>\n",
       "      <td>-0.407193</td>\n",
       "      <td>0.095921</td>\n",
       "      <td>0.592941</td>\n",
       "      <td>-0.270533</td>\n",
       "      <td>0.817739</td>\n",
       "      <td>...</td>\n",
       "      <td>-0.009431</td>\n",
       "      <td>0.798278</td>\n",
       "      <td>-0.137458</td>\n",
       "      <td>0.141267</td>\n",
       "      <td>-0.206010</td>\n",
       "      <td>0.502292</td>\n",
       "      <td>0.219422</td>\n",
       "      <td>0.215153</td>\n",
       "      <td>69.99</td>\n",
       "      <td>0</td>\n",
       "    </tr>\n",
       "  </tbody>\n",
       "</table>\n",
       "<p>5 rows × 31 columns</p>\n",
       "</div>"
      ],
      "text/plain": [
       "   Time        V1        V2        V3        V4        V5        V6        V7  \\\n",
       "0   0.0 -1.359807 -0.072781  2.536347  1.378155 -0.338321  0.462388  0.239599   \n",
       "1   0.0  1.191857  0.266151  0.166480  0.448154  0.060018 -0.082361 -0.078803   \n",
       "2   1.0 -1.358354 -1.340163  1.773209  0.379780 -0.503198  1.800499  0.791461   \n",
       "3   1.0 -0.966272 -0.185226  1.792993 -0.863291 -0.010309  1.247203  0.237609   \n",
       "4   2.0 -1.158233  0.877737  1.548718  0.403034 -0.407193  0.095921  0.592941   \n",
       "\n",
       "         V8        V9  ...         V21       V22       V23       V24  \\\n",
       "0  0.098698  0.363787  ...   -0.018307  0.277838 -0.110474  0.066928   \n",
       "1  0.085102 -0.255425  ...   -0.225775 -0.638672  0.101288 -0.339846   \n",
       "2  0.247676 -1.514654  ...    0.247998  0.771679  0.909412 -0.689281   \n",
       "3  0.377436 -1.387024  ...   -0.108300  0.005274 -0.190321 -1.175575   \n",
       "4 -0.270533  0.817739  ...   -0.009431  0.798278 -0.137458  0.141267   \n",
       "\n",
       "        V25       V26       V27       V28  Amount  Class  \n",
       "0  0.128539 -0.189115  0.133558 -0.021053  149.62      0  \n",
       "1  0.167170  0.125895 -0.008983  0.014724    2.69      0  \n",
       "2 -0.327642 -0.139097 -0.055353 -0.059752  378.66      0  \n",
       "3  0.647376 -0.221929  0.062723  0.061458  123.50      0  \n",
       "4 -0.206010  0.502292  0.219422  0.215153   69.99      0  \n",
       "\n",
       "[5 rows x 31 columns]"
      ]
     },
     "execution_count": 86,
     "metadata": {},
     "output_type": "execute_result"
    }
   ],
   "source": [
    "# Reading csv file and making dataframe out of it /  goal: to predic creditcard fails\n",
    "df = pd.read_csv('creditcard.csv')\n",
    "df.head()"
   ]
  },
  {
   "cell_type": "code",
   "execution_count": 87,
   "metadata": {},
   "outputs": [
    {
     "data": {
      "text/plain": [
       "0    284315\n",
       "1       492\n",
       "Name: Class, dtype: int64"
      ]
     },
     "execution_count": 87,
     "metadata": {},
     "output_type": "execute_result"
    }
   ],
   "source": [
    "# Checking whether we have more fraud and no frauds (0's and 1's)\n",
    "df['Class'].value_counts() "
   ]
  },
  {
   "cell_type": "code",
   "execution_count": 88,
   "metadata": {},
   "outputs": [
    {
     "data": {
      "text/html": [
       "<div>\n",
       "<style scoped>\n",
       "    .dataframe tbody tr th:only-of-type {\n",
       "        vertical-align: middle;\n",
       "    }\n",
       "\n",
       "    .dataframe tbody tr th {\n",
       "        vertical-align: top;\n",
       "    }\n",
       "\n",
       "    .dataframe thead th {\n",
       "        text-align: right;\n",
       "    }\n",
       "</style>\n",
       "<table border=\"1\" class=\"dataframe\">\n",
       "  <thead>\n",
       "    <tr style=\"text-align: right;\">\n",
       "      <th></th>\n",
       "      <th>Time</th>\n",
       "      <th>V1</th>\n",
       "      <th>V2</th>\n",
       "      <th>V3</th>\n",
       "      <th>V4</th>\n",
       "      <th>V5</th>\n",
       "      <th>V6</th>\n",
       "      <th>V7</th>\n",
       "      <th>V8</th>\n",
       "      <th>V9</th>\n",
       "      <th>...</th>\n",
       "      <th>V20</th>\n",
       "      <th>V21</th>\n",
       "      <th>V22</th>\n",
       "      <th>V23</th>\n",
       "      <th>V24</th>\n",
       "      <th>V25</th>\n",
       "      <th>V26</th>\n",
       "      <th>V27</th>\n",
       "      <th>V28</th>\n",
       "      <th>Amount</th>\n",
       "    </tr>\n",
       "  </thead>\n",
       "  <tbody>\n",
       "    <tr>\n",
       "      <th>191125</th>\n",
       "      <td>129124.0</td>\n",
       "      <td>-0.190075</td>\n",
       "      <td>0.203323</td>\n",
       "      <td>-0.996232</td>\n",
       "      <td>-1.596985</td>\n",
       "      <td>3.192579</td>\n",
       "      <td>3.356935</td>\n",
       "      <td>0.288299</td>\n",
       "      <td>0.895003</td>\n",
       "      <td>-0.330024</td>\n",
       "      <td>...</td>\n",
       "      <td>-0.007496</td>\n",
       "      <td>-0.170599</td>\n",
       "      <td>-0.619724</td>\n",
       "      <td>0.039651</td>\n",
       "      <td>0.706805</td>\n",
       "      <td>-0.160870</td>\n",
       "      <td>0.274825</td>\n",
       "      <td>-0.010541</td>\n",
       "      <td>0.022199</td>\n",
       "      <td>14.37</td>\n",
       "    </tr>\n",
       "    <tr>\n",
       "      <th>153710</th>\n",
       "      <td>99901.0</td>\n",
       "      <td>-0.000313</td>\n",
       "      <td>1.041633</td>\n",
       "      <td>-0.318849</td>\n",
       "      <td>-0.429824</td>\n",
       "      <td>0.927591</td>\n",
       "      <td>-0.784796</td>\n",
       "      <td>0.815404</td>\n",
       "      <td>-0.175950</td>\n",
       "      <td>1.175180</td>\n",
       "      <td>...</td>\n",
       "      <td>-0.284525</td>\n",
       "      <td>0.160884</td>\n",
       "      <td>0.681572</td>\n",
       "      <td>-0.313216</td>\n",
       "      <td>-0.556475</td>\n",
       "      <td>-0.077819</td>\n",
       "      <td>-0.218129</td>\n",
       "      <td>-0.095776</td>\n",
       "      <td>0.037814</td>\n",
       "      <td>9.00</td>\n",
       "    </tr>\n",
       "    <tr>\n",
       "      <th>261216</th>\n",
       "      <td>159917.0</td>\n",
       "      <td>2.065603</td>\n",
       "      <td>0.071537</td>\n",
       "      <td>-1.892041</td>\n",
       "      <td>0.190985</td>\n",
       "      <td>0.681571</td>\n",
       "      <td>-0.286226</td>\n",
       "      <td>0.051364</td>\n",
       "      <td>-0.040737</td>\n",
       "      <td>0.314773</td>\n",
       "      <td>...</td>\n",
       "      <td>-0.148721</td>\n",
       "      <td>-0.348255</td>\n",
       "      <td>-0.947148</td>\n",
       "      <td>0.270988</td>\n",
       "      <td>-0.011917</td>\n",
       "      <td>-0.234159</td>\n",
       "      <td>0.185280</td>\n",
       "      <td>-0.069232</td>\n",
       "      <td>-0.046179</td>\n",
       "      <td>1.98</td>\n",
       "    </tr>\n",
       "    <tr>\n",
       "      <th>190724</th>\n",
       "      <td>128961.0</td>\n",
       "      <td>2.025587</td>\n",
       "      <td>0.060125</td>\n",
       "      <td>-1.843486</td>\n",
       "      <td>0.347168</td>\n",
       "      <td>0.301427</td>\n",
       "      <td>-0.955263</td>\n",
       "      <td>0.073910</td>\n",
       "      <td>-0.137681</td>\n",
       "      <td>0.525494</td>\n",
       "      <td>...</td>\n",
       "      <td>-0.262006</td>\n",
       "      <td>0.219107</td>\n",
       "      <td>0.722795</td>\n",
       "      <td>-0.054034</td>\n",
       "      <td>-0.490497</td>\n",
       "      <td>0.212825</td>\n",
       "      <td>-0.091711</td>\n",
       "      <td>-0.011126</td>\n",
       "      <td>-0.047441</td>\n",
       "      <td>4.60</td>\n",
       "    </tr>\n",
       "    <tr>\n",
       "      <th>127492</th>\n",
       "      <td>78349.0</td>\n",
       "      <td>-0.482824</td>\n",
       "      <td>0.692865</td>\n",
       "      <td>1.397751</td>\n",
       "      <td>0.822699</td>\n",
       "      <td>-0.815530</td>\n",
       "      <td>0.143287</td>\n",
       "      <td>-0.419970</td>\n",
       "      <td>0.605203</td>\n",
       "      <td>-0.650301</td>\n",
       "      <td>...</td>\n",
       "      <td>0.207773</td>\n",
       "      <td>0.255948</td>\n",
       "      <td>0.566025</td>\n",
       "      <td>0.161260</td>\n",
       "      <td>0.057495</td>\n",
       "      <td>-1.055243</td>\n",
       "      <td>0.503132</td>\n",
       "      <td>0.069006</td>\n",
       "      <td>0.112114</td>\n",
       "      <td>46.87</td>\n",
       "    </tr>\n",
       "  </tbody>\n",
       "</table>\n",
       "<p>5 rows × 30 columns</p>\n",
       "</div>"
      ],
      "text/plain": [
       "            Time        V1        V2        V3        V4        V5        V6  \\\n",
       "191125  129124.0 -0.190075  0.203323 -0.996232 -1.596985  3.192579  3.356935   \n",
       "153710   99901.0 -0.000313  1.041633 -0.318849 -0.429824  0.927591 -0.784796   \n",
       "261216  159917.0  2.065603  0.071537 -1.892041  0.190985  0.681571 -0.286226   \n",
       "190724  128961.0  2.025587  0.060125 -1.843486  0.347168  0.301427 -0.955263   \n",
       "127492   78349.0 -0.482824  0.692865  1.397751  0.822699 -0.815530  0.143287   \n",
       "\n",
       "              V7        V8        V9   ...         V20       V21       V22  \\\n",
       "191125  0.288299  0.895003 -0.330024   ...   -0.007496 -0.170599 -0.619724   \n",
       "153710  0.815404 -0.175950  1.175180   ...   -0.284525  0.160884  0.681572   \n",
       "261216  0.051364 -0.040737  0.314773   ...   -0.148721 -0.348255 -0.947148   \n",
       "190724  0.073910 -0.137681  0.525494   ...   -0.262006  0.219107  0.722795   \n",
       "127492 -0.419970  0.605203 -0.650301   ...    0.207773  0.255948  0.566025   \n",
       "\n",
       "             V23       V24       V25       V26       V27       V28  Amount  \n",
       "191125  0.039651  0.706805 -0.160870  0.274825 -0.010541  0.022199   14.37  \n",
       "153710 -0.313216 -0.556475 -0.077819 -0.218129 -0.095776  0.037814    9.00  \n",
       "261216  0.270988 -0.011917 -0.234159  0.185280 -0.069232 -0.046179    1.98  \n",
       "190724 -0.054034 -0.490497  0.212825 -0.091711 -0.011126 -0.047441    4.60  \n",
       "127492  0.161260  0.057495 -1.055243  0.503132  0.069006  0.112114   46.87  \n",
       "\n",
       "[5 rows x 30 columns]"
      ]
     },
     "execution_count": 88,
     "metadata": {},
     "output_type": "execute_result"
    }
   ],
   "source": [
    "# Defining the independent variable (X) and dependend variable(Y) = fraud\n",
    "X = df.loc[:,'Time':'Amount'] \n",
    "y = df['Class']\n",
    "\n",
    "# Spliting data into training and test data set\n",
    "X_train, X_test, y_train, y_test = train_test_split(X, y, test_size=0.3, random_state=1)\n",
    "X_train.head()"
   ]
  },
  {
   "cell_type": "code",
   "execution_count": 90,
   "metadata": {},
   "outputs": [],
   "source": [
    "# Creating decision matrix and fitting into the training data\n",
    "rf = DecisionTreeClassifier() \n",
    "rf = rf.fit(X_train, y_train) # Always fit your model on the train data and evaluate on the test data"
   ]
  },
  {
   "cell_type": "code",
   "execution_count": 91,
   "metadata": {},
   "outputs": [],
   "source": [
    "# Predicting y test variable and creating a confusion matrix\n",
    "y_test_p = rf.predict(X_test)\n",
    "cm = confusion_matrix(y_test, y_test_p)  "
   ]
  },
  {
   "cell_type": "code",
   "execution_count": 92,
   "metadata": {},
   "outputs": [
    {
     "data": {
      "text/html": [
       "<div>\n",
       "<style scoped>\n",
       "    .dataframe tbody tr th:only-of-type {\n",
       "        vertical-align: middle;\n",
       "    }\n",
       "\n",
       "    .dataframe tbody tr th {\n",
       "        vertical-align: top;\n",
       "    }\n",
       "\n",
       "    .dataframe thead th {\n",
       "        text-align: right;\n",
       "    }\n",
       "</style>\n",
       "<table border=\"1\" class=\"dataframe\">\n",
       "  <thead>\n",
       "    <tr style=\"text-align: right;\">\n",
       "      <th></th>\n",
       "      <th>No fraud (pred)</th>\n",
       "      <th>Fraud (pred)</th>\n",
       "    </tr>\n",
       "  </thead>\n",
       "  <tbody>\n",
       "    <tr>\n",
       "      <th>No fraud(actual)</th>\n",
       "      <td>85268</td>\n",
       "      <td>40</td>\n",
       "    </tr>\n",
       "    <tr>\n",
       "      <th>fraud(actual)</th>\n",
       "      <td>36</td>\n",
       "      <td>99</td>\n",
       "    </tr>\n",
       "  </tbody>\n",
       "</table>\n",
       "</div>"
      ],
      "text/plain": [
       "                  No fraud (pred)  Fraud (pred)\n",
       "No fraud(actual)            85268            40\n",
       "fraud(actual)                  36            99"
      ]
     },
     "execution_count": 92,
     "metadata": {},
     "output_type": "execute_result"
    }
   ],
   "source": [
    "# Creating dataframe based on confusion matrix\n",
    "conf_matrix = pd.DataFrame(cm, index=['No fraud(actual)','fraud(actual)'], columns = ['No fraud (pred)', 'Fraud (pred)']) # class: 0 = no fraud, 1 = fraud\n",
    "conf_matrix"
   ]
  },
  {
   "cell_type": "code",
   "execution_count": null,
   "metadata": {},
   "outputs": [],
   "source": [
    "# Calculating accuracy, precision and recall\n",
    "# Accuracy is worthless for this data set, you want to know the recall and precision for fraud. Fraud is dififcult to predict and no frauf easy to predict\n",
    "# Precision can be lower and recall has to be higer choose the right parameters, that'd be better for the algorithm \n",
    "# Recall has to be very high, ideally we want it to be high. We want to catch all the fraud cases"
   ]
  },
  {
   "cell_type": "code",
   "execution_count": 124,
   "metadata": {},
   "outputs": [
    {
     "data": {
      "text/plain": [
       "36"
      ]
     },
     "execution_count": 124,
     "metadata": {},
     "output_type": "execute_result"
    }
   ],
   "source": [
    "fraud_0 = conf_matrix.iloc[1,0]\n",
    "fraud_0"
   ]
  },
  {
   "cell_type": "code",
   "execution_count": 125,
   "metadata": {},
   "outputs": [
    {
     "data": {
      "text/plain": [
       "99"
      ]
     },
     "execution_count": 125,
     "metadata": {},
     "output_type": "execute_result"
    }
   ],
   "source": [
    "fraud_1 = conf_matrix.iloc[1,1]\n",
    "fraud_1"
   ]
  },
  {
   "cell_type": "code",
   "execution_count": 126,
   "metadata": {},
   "outputs": [
    {
     "data": {
      "text/plain": [
       "85268"
      ]
     },
     "execution_count": 126,
     "metadata": {},
     "output_type": "execute_result"
    }
   ],
   "source": [
    "fraud_p_0 = conf_matrix.iloc[0,0]\n",
    "fraud_p_0"
   ]
  },
  {
   "cell_type": "code",
   "execution_count": 127,
   "metadata": {},
   "outputs": [
    {
     "data": {
      "text/plain": [
       "40"
      ]
     },
     "execution_count": 127,
     "metadata": {},
     "output_type": "execute_result"
    }
   ],
   "source": [
    "fraud_p_1 = conf_matrix.iloc[0,1]\n",
    "fraud_p_1"
   ]
  },
  {
   "cell_type": "code",
   "execution_count": 128,
   "metadata": {},
   "outputs": [
    {
     "data": {
      "text/plain": [
       "0.7122302158273381"
      ]
     },
     "execution_count": 128,
     "metadata": {},
     "output_type": "execute_result"
    }
   ],
   "source": [
    "# Calculating precision and recall, accuracy is not relevant for these data\n",
    "precision = fraud_1 / (fraud_1 + fraud_p_1)\n",
    "precision"
   ]
  },
  {
   "cell_type": "code",
   "execution_count": 130,
   "metadata": {},
   "outputs": [
    {
     "data": {
      "text/plain": [
       "0.7333333333333333"
      ]
     },
     "execution_count": 130,
     "metadata": {},
     "output_type": "execute_result"
    }
   ],
   "source": [
    "# recall = sk.metrics.recall_score(y_test, y_test_p)\n",
    "recall = fraud_1 / (fraud_1 + fraud_0)\n",
    "recall"
   ]
  },
  {
   "cell_type": "code",
   "execution_count": null,
   "metadata": {},
   "outputs": [],
   "source": []
  }
 ],
 "metadata": {
  "kernelspec": {
   "display_name": "Python 3",
   "language": "python",
   "name": "python3"
  },
  "language_info": {
   "codemirror_mode": {
    "name": "ipython",
    "version": 3
   },
   "file_extension": ".py",
   "mimetype": "text/x-python",
   "name": "python",
   "nbconvert_exporter": "python",
   "pygments_lexer": "ipython3",
   "version": "3.6.5"
  }
 },
 "nbformat": 4,
 "nbformat_minor": 2
}
